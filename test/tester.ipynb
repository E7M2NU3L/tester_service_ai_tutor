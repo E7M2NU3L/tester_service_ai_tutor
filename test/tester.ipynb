{
 "cells": [
  {
   "cell_type": "code",
   "execution_count": 7,
   "metadata": {},
   "outputs": [
    {
     "data": {
      "text/plain": [
       "False"
      ]
     },
     "execution_count": 7,
     "metadata": {},
     "output_type": "execute_result"
    }
   ],
   "source": [
    "from langchain_pinecone import PineconeVectorStore\n",
    "from langchain_core.prompts import ChatPromptTemplate\n",
    "from langchain.chains import create_retrieval_chain\n",
    "from langchain_google_genai import ChatGoogleGenerativeAI\n",
    "from langchain.chains.combine_documents import create_stuff_documents_chain\n",
    "from langchain_google_genai import GoogleGenerativeAIEmbeddings\n",
    "from pinecone import Pinecone\n",
    "import os\n",
    "from dotenv import load_dotenv\n",
    "\n",
    "load_dotenv()"
   ]
  },
  {
   "cell_type": "code",
   "execution_count": 8,
   "metadata": {},
   "outputs": [],
   "source": [
    "# generate system prompt\n",
    "class SystemPrompt:\n",
    "    def __init__(self) -> None:\n",
    "        pass\n",
    "\n",
    "    def generate_system_context(self):\n",
    "        system_context = (\"\"\"You are an AI-powered exam conductor responsible for creating and administering tests on a defined subject.  \n",
    "            Your goal is to generate structured exams with varying difficulty levels, ensuring a balanced assessment of the student's knowledge.  \n",
    "            The test should include a mix of question types, such as:  \n",
    "\n",
    "            - **Multiple Choice Questions (MCQs)**  \n",
    "            - **True/False Questions**  \n",
    "            - **Fill in the Blanks**  \n",
    "            - **Reasoning and Analytical Questions**  \n",
    "            - **Paragraph-based Questions**  \n",
    "            - **Short and Long Essays**  \n",
    "\n",
    "            Adapt the difficulty level based on the student's proficiency and provide clear instructions for each section.  \n",
    "            Ensure the questions are diverse, fair, and encourage critical thinking while maintaining subject relevance.  \n",
    "\n",
    "            {context}\n",
    "            \"\"\")\n",
    "        \n",
    "        return system_context"
   ]
  },
  {
   "cell_type": "code",
   "execution_count": 9,
   "metadata": {},
   "outputs": [],
   "source": [
    "# embedder class\n",
    "class GetEmbedder:\n",
    "    def __init__(self):\n",
    "        pass\n",
    "\n",
    "    def embedding_instance_provider(self):\n",
    "        embeddings = GoogleGenerativeAIEmbeddings(model=\"models/embedding-001\")\n",
    "        return embeddings"
   ]
  },
  {
   "cell_type": "code",
   "execution_count": 10,
   "metadata": {},
   "outputs": [
    {
     "name": "stdout",
     "output_type": "stream",
     "text": [
      "Gemini API Key set successfully!\n",
      "PineCone API Key set successfully!\n"
     ]
    }
   ],
   "source": [
    "# configuring Google Gemini API\n",
    "apiKey = \"\"\n",
    "\n",
    "if \"GOOGLE_API_KEY\" not in os.environ:\n",
    "    os.environ[\"GOOGLE_API_KEY\"] = apiKey\n",
    "\n",
    "print(\"Gemini API Key set successfully!\")\n",
    "\n",
    "# configuring PineCone API Credentials\n",
    "pineconeKey = \"\"\n",
    "\n",
    "if \"PINECONE_API_KEY\" not in os.environ:\n",
    "    os.environ[\"PINECONE_API_KEY\"] = pineconeKey\n",
    "\n",
    "print(\"PineCone API Key set successfully!\")"
   ]
  },
  {
   "cell_type": "code",
   "execution_count": 15,
   "metadata": {},
   "outputs": [],
   "source": [
    "# 🔹 Pinecone Connector Class\n",
    "class PineConeConnector:\n",
    "    def __init__(self, uid, embedder) -> None:\n",
    "        self.uid = uid\n",
    "        self.embedder = embedder\n",
    "        self.index_name = f\"{self.uid}\"\n",
    "\n",
    "        # Initialize Pinecone once\n",
    "        self.pc = Pinecone(api_key=os.environ[\"PINECONE_API_KEY\"])\n",
    "\n",
    "    def get_retriever(self):\n",
    "        \"\"\"Retrieves stored embeddings from Pinecone.\"\"\"\n",
    "        doc_store = PineconeVectorStore.from_existing_index(\n",
    "            index_name=self.index_name,\n",
    "            embedding=self.embedder,\n",
    "        )\n",
    "        retriever = doc_store.as_retriever(search_type=\"similarity\", search_kwargs={\"k\": 3})\n",
    "        return retriever"
   ]
  },
  {
   "cell_type": "code",
   "execution_count": 16,
   "metadata": {},
   "outputs": [
    {
     "name": "stdout",
     "output_type": "stream",
     "text": [
      "Embedder and index name have been set\n"
     ]
    }
   ],
   "source": [
    "index_name = \"teacher-bot-test\"\n",
    "embedder = GetEmbedder().embedding_instance_provider()\n",
    "\n",
    "print(\"Embedder and index name have been set\")"
   ]
  },
  {
   "cell_type": "code",
   "execution_count": 17,
   "metadata": {},
   "outputs": [
    {
     "name": "stdout",
     "output_type": "stream",
     "text": [
      "Pinecone has been connected\n"
     ]
    }
   ],
   "source": [
    "pinecone_instance = PineConeConnector(uid=index_name, embedder=embedder)\n",
    "\n",
    "print('Pinecone has been connected')"
   ]
  },
  {
   "cell_type": "code",
   "execution_count": 18,
   "metadata": {},
   "outputs": [],
   "source": [
    "retriever = pinecone_instance.get_retriever()"
   ]
  },
  {
   "cell_type": "code",
   "execution_count": 21,
   "metadata": {},
   "outputs": [],
   "source": [
    "# 🔹 Gemini RAG Class\n",
    "class GeminiRag:\n",
    "    def __init__(self, retriever, question):\n",
    "        self.retriever = retriever\n",
    "        self.question = question\n",
    "\n",
    "        # Initialize LLM\n",
    "        self.llm = ChatGoogleGenerativeAI(model=\"gemini-2.0-flash\", temperature=0.9,)\n",
    "\n",
    "        # Generate system context and set up prompt template\n",
    "        system_context = SystemPrompt().generate_system_context()\n",
    "        self.prompt = ChatPromptTemplate.from_messages(\n",
    "            [\n",
    "                (\"system\", system_context),\n",
    "                (\"human\", \"{input}\"),\n",
    "            ]\n",
    "        )\n",
    "\n",
    "    def answer_prompt(self):\n",
    "        \"\"\"Retrieves documents and answers the prompt.\"\"\"\n",
    "        prompt_answer_chain = create_stuff_documents_chain(self.llm, self.prompt)\n",
    "        rag_chain = create_retrieval_chain(self.retriever, prompt_answer_chain)\n",
    "\n",
    "        return rag_chain.invoke({\"input\": self.question})"
   ]
  },
  {
   "cell_type": "code",
   "execution_count": 24,
   "metadata": {},
   "outputs": [],
   "source": [
    "question = \"100 mark test on BioPolymers with 10 2 marks, 5 13 marks and 1 16 marks question pattern, difficult of the test: Hard\"\n",
    "\n",
    "testgenerator_instance = GeminiRag(retriever, question)"
   ]
  },
  {
   "cell_type": "code",
   "execution_count": 25,
   "metadata": {},
   "outputs": [],
   "source": [
    "response = testgenerator_instance.answer_prompt()"
   ]
  },
  {
   "cell_type": "code",
   "execution_count": 26,
   "metadata": {},
   "outputs": [
    {
     "name": "stdout",
     "output_type": "stream",
     "text": [
      "{'input': '100 mark test on BioPolymers with 10 2 marks, 5 13 marks and 1 16 marks question pattern, difficult of the test: Hard', 'context': [Document(id='e39a2e9c-3897-4318-89de-96b1ba7cd203', metadata={'author': 'Acer', 'creationdate': '2024-04-20T12:19:22+05:30', 'creator': 'Microsoft® Word 2010', 'moddate': '2024-04-20T12:19:22+05:30', 'page': 0.0, 'page_label': '1', 'producer': 'Microsoft® Word 2010', 'source': 'data\\\\text_book.pdf', 'total_pages': 4.0}, page_content='\\uf0b7 On the other hand if the backbone chains can be made more rigid then a stiffe r \\npolymer will result.'), Document(id='8cc23816-096b-4deb-99f1-36f4ef8ddb95', metadata={'author': 'Acer', 'creationdate': '2024-04-20T12:19:22+05:30', 'creator': 'Microsoft® Word 2010', 'moddate': '2024-04-20T12:19:22+05:30', 'page': 2.0, 'page_label': '3', 'producer': 'Microsoft® Word 2010', 'source': 'data\\\\text_book.pdf', 'total_pages': 4.0}, page_content='3 \\n \\n \\n\\uf0b7 Since polymers are noncrystalline or at most semicrystalline, the value obtained in \\nthis measurement depends on how fast it is taken.  \\nBIODEGRADABLE POLYMERS \\n\\uf0b7 Several biodegradable polymers such as polylactide (PLA), polyglycolide (PGA), \\npoly(glycolide-co-lactide) (PLGA), poly(dioxanone), poly(trimethylene carbonate), \\npoly(carbonate), and so on have been use d extensively or tested on a wide range of'), Document(id='57c5df3a-87b6-4e34-8412-32e0a23dd24b', metadata={'author': 'Acer', 'creationdate': '2024-04-20T12:19:22+05:30', 'creator': 'Microsoft® Word 2010', 'moddate': '2024-04-20T12:19:22+05:30', 'page': 0.0, 'page_label': '1', 'producer': 'Microsoft® Word 2010', 'source': 'data\\\\text_book.pdf', 'total_pages': 4.0}, page_content='1 \\n \\nUNIT III \\nFACTORS INFLUENCING THE PROPERTIES OF POLYMERS \\nEffect of Structural Modification on Properties: \\n\\uf0b7 The physical properties of polymers can be affected in many ways.  \\n\\uf0b7 In particular, the chemica l composition and arrangement of chains will have a great \\neffect on the final properties.  \\n\\uf0b7 By such means the polymers can be tailored to meet the end use.  \\nEffect of Molecular Weight and Composition:')], 'answer': 'Okay, here is a 100-mark hard-level test on Biopolymers, designed with the specified question pattern. Good luck!\\n\\n**Instructions:**\\n\\n*   **Total Marks:** 100\\n*   **Time Allotted:** 3 hours\\n*   **Answer all questions.**\\n*   **Read each question carefully before answering.**\\n*   **Be precise and concise in your answers.**\\n*   **For essay questions, structure your answers logically and provide supporting arguments.**\\n\\n**Section A: (2 Marks Each = 20 Marks)**\\n\\nAnswer the following questions briefly and to the point.\\n\\n1.  Define the term \"biopolymer\" and provide two examples.\\n2.  What is the primary difference between a homopolymer and a copolymer, in the context of biopolymers?\\n3.  State two advantages of using biopolymers over synthetic polymers in packaging applications.\\n4.  What is meant by the \\'glass transition temperature\\' (Tg) of a biopolymer, and why is it important?\\n5.  Name two common methods used to synthesize polylactic acid (PLA).\\n6.  Briefly explain the role of microorganisms in the production of polyhydroxyalkanoates (PHAs).\\n7.  What are the two main components of starch, and how do they differ in structure?\\n8.  What is \"degree of polymerization\"?\\n9.  Define tacticity.\\n10. What are biodegradable polymers? Give examples.\\n\\n**Section B: (13 Marks Each = 65 Marks)**\\n\\nAnswer the following questions in detail, demonstrating a comprehensive understanding of the concepts.\\n\\n1.  Discuss the factors influencing the properties of polymers.\\n2.  Describe the process of synthesizing biopolymers from renewable resources, highlighting the environmental benefits and challenges involved.\\n3.  Compare and contrast the properties and applications of polylactic acid (PLA) and polyhydroxyalkanoates (PHAs).  Include a discussion of their biodegradability and mechanical properties.\\n4.  Critically analyze the challenges associated with the large-scale production and commercialization of biopolymers. Discuss potential solutions to these challenges.\\n5.  Explain the different methods employed to modify biopolymers to enhance their mechanical properties.\\n6.  Outline the applications of biopolymers in the biomedical field.\\n\\n**Section C: (16 Marks Each = 16 Marks)**\\n\\nAnswer the following question in essay form, demonstrating critical thinking and in-depth knowledge.\\n\\n1.  \"Biopolymers represent a sustainable alternative to traditional petroleum-based polymers, but their widespread adoption faces significant hurdles.\" Discuss this statement in detail, considering the environmental, economic, and technical aspects of biopolymer production and usage. Provide specific examples and supporting evidence to strengthen your arguments.\\n\\n**End of Test**'}\n"
     ]
    }
   ],
   "source": [
    "print(response)"
   ]
  },
  {
   "cell_type": "code",
   "execution_count": 23,
   "metadata": {},
   "outputs": [],
   "source": [
    "class ExamCorrectionSystemPrompt:\n",
    "    def __init__(self):\n",
    "        pass\n",
    "\n",
    "    def generate_system_context(self):\n",
    "        \"\"\"Defines the AI’s role as an exam evaluator.\"\"\"\n",
    "        system_context = (\"\"\"You are an AI-powered examination correction assistant responsible for evaluating students' answers and grading them fairly.  \n",
    "            Your goal is to assess responses based on accuracy, depth, reasoning, and adherence to the question's requirements.  \n",
    "            \n",
    "            **Evaluation Criteria:**  \n",
    "            - **Correctness**: Ensure the answer accurately addresses the question.  \n",
    "            - **Relevance**: Verify that the response stays on topic.  \n",
    "            - **Clarity & Explanation**: Check for well-structured and logical explanations.  \n",
    "            - **Depth of Understanding**: Award higher marks for in-depth reasoning.  \n",
    "            - **Grammar & Presentation**: Consider clarity in writing and coherence.  \n",
    "\n",
    "            **Scoring System:**  \n",
    "            - **MCQs & True/False:** Assign 1 or 0 based on correctness.  \n",
    "            - **Short Answers:** Award partial marks for partially correct responses.  \n",
    "            - **Essays & Explanations:** Grade based on argument strength, structure, and depth.  \n",
    "\n",
    "            Provide a clear **score breakdown** and **feedback** for each response to help students improve.  \n",
    "\n",
    "            {context}\n",
    "        \"\"\")\n",
    "        return system_context\n"
   ]
  },
  {
   "cell_type": "code",
   "execution_count": 27,
   "metadata": {},
   "outputs": [],
   "source": [
    "class GeminiExamCorrection:\n",
    "    def __init__(self, answers, retriever):\n",
    "        self.answers = answers\n",
    "        self.retriever = retriever\n",
    "\n",
    "        # Initialize LLM\n",
    "        self.llm = ChatGoogleGenerativeAI(model=\"gemini-2.0-flash\", temperature=0.9)\n",
    "\n",
    "        # Generate system context and set up prompt template\n",
    "        system_context = ExamCorrectionSystemPrompt().generate_system_context()\n",
    "        self.prompt = ChatPromptTemplate.from_messages(\n",
    "            [\n",
    "                (\"system\", system_context),\n",
    "                (\"human\", \"{input}\"),\n",
    "            ]\n",
    "        )\n",
    "\n",
    "    def correct_exam(self):\n",
    "        \"\"\"Retrieves answer-related documents and evaluates responses.\"\"\"\n",
    "        correction_chain = create_stuff_documents_chain(self.llm, self.prompt)\n",
    "        rag_chain = create_retrieval_chain(self.retriever, correction_chain)\n",
    "\n",
    "        return rag_chain.invoke({\"input\": self.answers})"
   ]
  },
  {
   "cell_type": "code",
   "execution_count": 28,
   "metadata": {},
   "outputs": [],
   "source": [
    "sample_input = \"\"\"\n",
    "Question 1:\n",
    "What are biopolymers?\n",
    "Answer: Biopolymers are synthetic polymers that are created in chemical laboratories.\n",
    "\n",
    "Question 2:\n",
    "Give an example of a polysaccharide biopolymer.\n",
    "Answer: DNA is an example of a polysaccharide biopolymer.\n",
    "\n",
    "Question 3:\n",
    "What is the primary function of proteins as biopolymers?\n",
    "Answer: Proteins mainly store genetic information and transmit hereditary traits.\n",
    "\n",
    "Question 4:\n",
    "How are biopolymers different from synthetic polymers?\n",
    "Answer: Biopolymers and synthetic polymers have no significant differences; both are man-made materials.\n",
    "\n",
    "Question 5:\n",
    "What is the monomer unit of cellulose?\n",
    "Answer: The monomer unit of cellulose is amino acid.\n",
    "\"\"\"\n",
    "\n",
    "corrector_rag = GeminiExamCorrection(retriever=retriever, answers=sample_input)"
   ]
  },
  {
   "cell_type": "code",
   "execution_count": 29,
   "metadata": {},
   "outputs": [],
   "source": [
    "response = corrector_rag.correct_exam()"
   ]
  },
  {
   "cell_type": "code",
   "execution_count": 30,
   "metadata": {},
   "outputs": [
    {
     "name": "stdout",
     "output_type": "stream",
     "text": [
      "Response\n",
      "{'input': '\\nQuestion 1:\\nWhat are biopolymers?\\nAnswer: Biopolymers are synthetic polymers that are created in chemical laboratories.\\n\\nQuestion 2:\\nGive an example of a polysaccharide biopolymer.\\nAnswer: DNA is an example of a polysaccharide biopolymer.\\n\\nQuestion 3:\\nWhat is the primary function of proteins as biopolymers?\\nAnswer: Proteins mainly store genetic information and transmit hereditary traits.\\n\\nQuestion 4:\\nHow are biopolymers different from synthetic polymers?\\nAnswer: Biopolymers and synthetic polymers have no significant differences; both are man-made materials.\\n\\nQuestion 5:\\nWhat is the monomer unit of cellulose?\\nAnswer: The monomer unit of cellulose is amino acid.\\n', 'context': [Document(id='8cc23816-096b-4deb-99f1-36f4ef8ddb95', metadata={'author': 'Acer', 'creationdate': '2024-04-20T12:19:22+05:30', 'creator': 'Microsoft® Word 2010', 'moddate': '2024-04-20T12:19:22+05:30', 'page': 2.0, 'page_label': '3', 'producer': 'Microsoft® Word 2010', 'source': 'data\\\\text_book.pdf', 'total_pages': 4.0}, page_content='3 \\n \\n \\n\\uf0b7 Since polymers are noncrystalline or at most semicrystalline, the value obtained in \\nthis measurement depends on how fast it is taken.  \\nBIODEGRADABLE POLYMERS \\n\\uf0b7 Several biodegradable polymers such as polylactide (PLA), polyglycolide (PGA), \\npoly(glycolide-co-lactide) (PLGA), poly(dioxanone), poly(trimethylene carbonate), \\npoly(carbonate), and so on have been use d extensively or tested on a wide range of'), Document(id='e39a2e9c-3897-4318-89de-96b1ba7cd203', metadata={'author': 'Acer', 'creationdate': '2024-04-20T12:19:22+05:30', 'creator': 'Microsoft® Word 2010', 'moddate': '2024-04-20T12:19:22+05:30', 'page': 0.0, 'page_label': '1', 'producer': 'Microsoft® Word 2010', 'source': 'data\\\\text_book.pdf', 'total_pages': 4.0}, page_content='\\uf0b7 On the other hand if the backbone chains can be made more rigid then a stiffe r \\npolymer will result.'), Document(id='57c5df3a-87b6-4e34-8412-32e0a23dd24b', metadata={'author': 'Acer', 'creationdate': '2024-04-20T12:19:22+05:30', 'creator': 'Microsoft® Word 2010', 'moddate': '2024-04-20T12:19:22+05:30', 'page': 0.0, 'page_label': '1', 'producer': 'Microsoft® Word 2010', 'source': 'data\\\\text_book.pdf', 'total_pages': 4.0}, page_content='1 \\n \\nUNIT III \\nFACTORS INFLUENCING THE PROPERTIES OF POLYMERS \\nEffect of Structural Modification on Properties: \\n\\uf0b7 The physical properties of polymers can be affected in many ways.  \\n\\uf0b7 In particular, the chemica l composition and arrangement of chains will have a great \\neffect on the final properties.  \\n\\uf0b7 By such means the polymers can be tailored to meet the end use.  \\nEffect of Molecular Weight and Composition:')], 'answer': '**Evaluation of Answers:**\\n\\n**Question 1:**\\n*   **Answer:** Biopolymers are synthetic polymers that are created in chemical laboratories.\\n*   **Correctness:** Incorrect. Biopolymers are produced by living organisms, not synthesized in labs.\\n*   **Score:** 0/1\\n*   **Feedback:** Biopolymers are natural polymers produced by living organisms. Synthetic polymers are created in labs.\\n\\n**Question 2:**\\n*   **Answer:** DNA is an example of a polysaccharide biopolymer.\\n*   **Correctness:** Incorrect. DNA is a nucleic acid, not a polysaccharide.\\n*   **Score:** 0/1\\n*   **Feedback:** Polysaccharides are carbohydrates. Examples include starch, cellulose, and chitin. DNA is a nucleic acid.\\n\\n**Question 3:**\\n*   **Answer:** Proteins mainly store genetic information and transmit hereditary traits.\\n*   **Correctness:** Incorrect. The primary function of proteins is not to store genetic information.\\n*   **Score:** 0/1\\n*   **Feedback:** Proteins have diverse functions, including acting as enzymes, structural components, and signaling molecules. Genetic information is stored in nucleic acids (DNA and RNA).\\n\\n**Question 4:**\\n*   **Answer:** Biopolymers and synthetic polymers have no significant differences; both are man-made materials.\\n*   **Correctness:** Incorrect. Biopolymers are naturally occurring, while synthetic polymers are man-made.\\n*   **Score:** 0/1\\n*   **Feedback:** Biopolymers are produced by living organisms, while synthetic polymers are synthesized by humans.\\n\\n**Question 5:**\\n*   **Answer:** The monomer unit of cellulose is amino acid.\\n*   **Correctness:** Incorrect. Amino acids are the building blocks of proteins, not cellulose.\\n*   **Score:** 0/1\\n*   **Feedback:** The monomer unit of cellulose is glucose, a type of sugar.'}\n"
     ]
    }
   ],
   "source": [
    "print(\"Response\")\n",
    "print(response)"
   ]
  },
  {
   "cell_type": "code",
   "execution_count": null,
   "metadata": {},
   "outputs": [],
   "source": []
  }
 ],
 "metadata": {
  "kernelspec": {
   "display_name": "tester",
   "language": "python",
   "name": "python3"
  },
  "language_info": {
   "codemirror_mode": {
    "name": "ipython",
    "version": 3
   },
   "file_extension": ".py",
   "mimetype": "text/x-python",
   "name": "python",
   "nbconvert_exporter": "python",
   "pygments_lexer": "ipython3",
   "version": "3.11.1"
  }
 },
 "nbformat": 4,
 "nbformat_minor": 2
}
